{
  "nbformat": 4,
  "nbformat_minor": 0,
  "metadata": {
    "colab": {
      "provenance": [],
      "authorship_tag": "ABX9TyOi84tGwHxUZLwPKFbeFaZP",
      "include_colab_link": true
    },
    "kernelspec": {
      "name": "python3",
      "display_name": "Python 3"
    },
    "language_info": {
      "name": "python"
    }
  },
  "cells": [
    {
      "cell_type": "markdown",
      "metadata": {
        "id": "view-in-github",
        "colab_type": "text"
      },
      "source": [
        "<a href=\"https://colab.research.google.com/github/DoraswamiH/Python_IQA/blob/main/Interview_QAA_Python.ipynb\" target=\"_parent\"><img src=\"https://colab.research.google.com/assets/colab-badge.svg\" alt=\"Open In Colab\"/></a>"
      ]
    },
    {
      "cell_type": "code",
      "execution_count": 1,
      "metadata": {
        "colab": {
          "base_uri": "https://localhost:8080/",
          "height": 0
        },
        "id": "5BKcQMOi9p9a",
        "outputId": "4c366b07-d0db-4bae-9257-70bc14f009ea"
      },
      "outputs": [
        {
          "output_type": "stream",
          "name": "stdout",
          "text": [
            "{'milk': 0.7752, 'coffee': 1.9, 'bread': 1.9}\n"
          ]
        }
      ],
      "source": [
        "# prices of items in US $\n",
        "old_price = {\n",
        "    'milk':1.02,\n",
        "    'coffee':2.5,\n",
        "    'bread': 2.5\n",
        "}\n",
        "dollar_to_pound = 0.76\n",
        "new_price = { item:value*dollar_to_pound  for (item, value) in old_price.items()}\n",
        "print(new_price)"
      ]
    },
    {
      "cell_type": "code",
      "source": [
        "# To test the given word/ string is polyndrome or not.\n",
        "def polyndrome(s):\n",
        "    if s == s[::-1]:\n",
        "        print(f\"the given word '{s}'' is polyndrome\")\n",
        "    else:\n",
        "        print(f\"the given word '{s}' is not polyndrome\")\n",
        "\n",
        "polyndrome('one')\n",
        "polyndrome('katak')\n",
        "\n",
        ""
      ],
      "metadata": {
        "colab": {
          "base_uri": "https://localhost:8080/",
          "height": 0
        },
        "id": "Avb25wGr9xAD",
        "outputId": "360b7c75-1956-47e8-dcb8-14a081ad8b03"
      },
      "execution_count": 3,
      "outputs": [
        {
          "output_type": "stream",
          "name": "stdout",
          "text": [
            "the given word 'one' is not polyndrome\n",
            "the given word 'katak'' is polyndrome\n"
          ]
        }
      ]
    },
    {
      "cell_type": "code",
      "source": [
        "a = 2456\n",
        "b = str(a)\n",
        "print(b)\n",
        "#"
      ],
      "metadata": {
        "colab": {
          "base_uri": "https://localhost:8080/",
          "height": 0
        },
        "id": "1al5Z50reC_e",
        "outputId": "172bf178-a72a-4287-b1d6-bfb201cb001a"
      },
      "execution_count": 4,
      "outputs": [
        {
          "output_type": "stream",
          "name": "stdout",
          "text": [
            "2456\n"
          ]
        }
      ]
    },
    {
      "cell_type": "code",
      "source": [
        "# to print the given number in reverse order\n",
        "\n",
        "s = int(input(\"please enter a number:\"))\n",
        "print(f\"the given number is :'{s}' \")\n",
        "word = str(s)\n",
        "reversed_word = word[::-1]\n",
        "print(f\"the reversed number is '{reversed_word}' \")"
      ],
      "metadata": {
        "colab": {
          "base_uri": "https://localhost:8080/",
          "height": 0
        },
        "id": "CWymubY9fIhb",
        "outputId": "49bfa2ac-3be6-4288-a8c2-516599852eb8"
      },
      "execution_count": 5,
      "outputs": [
        {
          "output_type": "stream",
          "name": "stdout",
          "text": [
            "please enter a number:8309162265\n",
            "the given number is :'8309162265' \n",
            "the reversed number is '5622619038' \n"
          ]
        }
      ]
    },
    {
      "cell_type": "code",
      "source": [
        "# Convert Date From yyyy-mm-dd Format to dd-mm-yyyy Format.\n",
        "from datetime import datetime\n",
        "\n",
        "now = datetime.now()\n",
        "cvt_DMY = now.strftime(\"%dd-%mm-%yy\")\n",
        "cvt_dmy = now.strftime(\"%d-%m-%y\")\n",
        "cvt_dMY = now.strftime(\"%d-%M-%Y\")\n",
        "print(now)\n",
        "print(\"formatted output:\",cvt_DMY)\n",
        "print(\"formatted output:\",cvt_dmy)\n",
        "print(\"formatted output:\",cvt_dMY)"
      ],
      "metadata": {
        "id": "RA6mqDRofa88"
      },
      "execution_count": null,
      "outputs": []
    },
    {
      "cell_type": "code",
      "source": [
        "#Calculate Square of the Provided Number\n",
        "import math\n",
        "\n",
        "num  = int(input(\"please enter the number you want to square it:\"))\n",
        "srd_num = math.pow(num,2)\n",
        "\n",
        "print(\"the given number is:\",num)\n",
        "print(\"the square of given num is:\",{srd_num})\n",
        "\n",
        "print(\"Square of {} is {}\".format(num, srd_num))"
      ],
      "metadata": {
        "colab": {
          "base_uri": "https://localhost:8080/",
          "height": 0
        },
        "id": "di7SGF6pnpix",
        "outputId": "549af55b-47e0-40a8-a83d-b35bedfed85b"
      },
      "execution_count": 7,
      "outputs": [
        {
          "output_type": "stream",
          "name": "stdout",
          "text": [
            "please enter the number you want to square it:9\n",
            "the given number is: 9\n",
            "the square of given num is: {81.0}\n",
            "Square of 9 is 81.0\n"
          ]
        }
      ]
    },
    {
      "cell_type": "code",
      "source": [
        "# Alternate way 2\n",
        "# import the math module\n",
        "import math\n",
        "\n",
        "# input a number\n",
        "number = int(input(\"Enter an integer number: \"))  # Use input() in Python 3\n",
        "\n",
        "# calculate square\n",
        "square = int(math.pow(number, 2))  # math.pow() returns a float, so converting to int if needed\n",
        "\n",
        "# print the result\n",
        "print(\"Square of {} is {}\".format(number, square))  # Use print as a function in Python 3"
      ],
      "metadata": {
        "id": "hMPiRjounpl7"
      },
      "execution_count": null,
      "outputs": []
    },
    {
      "cell_type": "code",
      "source": [
        "# Alternate way 3\n",
        "# input a number\n",
        "number = int(input(\"Enter an integer number: \"))  # Use input() in Python 3\n",
        "\n",
        "# calculate square\n",
        "square = number**2  # math.pow() returns a float, so converting to int if needed\n",
        "\n",
        "# print the result\n",
        "print(\"Square of {} is {}\".format(number, square))  # Use print as a function in Python 3"
      ],
      "metadata": {
        "id": "4_5Nx8YLnpol"
      },
      "execution_count": null,
      "outputs": []
    },
    {
      "cell_type": "code",
      "source": [
        "# Min & Max sorting alternate way 2\n",
        "arr = [10,15,8,5,18,23,26,33,6,9]\n",
        "s_arr = arr.sort()\n",
        "print(arr[0])\n",
        "print(arr[-1])\n",
        "\n",
        "# Max & Min  sorting alternate way 3\n",
        "arr = [10,15,8,5,18,23,26,33,6,9]\n",
        "#s_arr = arr.sort()\n",
        "print(min(arr))\n",
        "print(max(arr))"
      ],
      "metadata": {
        "colab": {
          "base_uri": "https://localhost:8080/",
          "height": 0
        },
        "id": "MVVuEt4SnpsH",
        "outputId": "bf5099ad-d83e-400f-a15c-1e37c845052b"
      },
      "execution_count": 1,
      "outputs": [
        {
          "output_type": "stream",
          "name": "stdout",
          "text": [
            "5\n",
            "33\n",
            "5\n",
            "33\n"
          ]
        }
      ]
    },
    {
      "cell_type": "code",
      "source": [
        "# Monotonical checking method 1\n",
        "arr = [1,2,2,3,4,5,6,7,3,6,9,4]\n",
        "def is_monotonical(arr):\n",
        "    return ( arr == sorted(arr) or arr == sorted(arr, reverse = True)\n",
        "\n",
        "    )\n",
        "\n",
        "print(is_monotonical(arr))\n",
        "\n"
      ],
      "metadata": {
        "id": "obQAif7J7-cY"
      },
      "execution_count": null,
      "outputs": []
    },
    {
      "cell_type": "code",
      "source": [
        "# Monotonical checking method 2\n",
        "arr = [1,2,2,3,4,5,6,7]\n",
        "def is_monotonical(arr):\n",
        "    return (\n",
        "        all(arr[i] >= arr[i+1] for i in range(len(arr)-1)) or\n",
        "        all(arr[i] <= arr[i+1] for i in range(len(arr)-1))\n",
        "    )\n",
        "\n",
        "print(is_monotonical(arr))"
      ],
      "metadata": {
        "colab": {
          "base_uri": "https://localhost:8080/",
          "height": 0
        },
        "id": "UIw6H_lBBMQA",
        "outputId": "c0a0f2f4-4c60-4c26-bfd5-3fe691849d49"
      },
      "execution_count": 2,
      "outputs": [
        {
          "output_type": "stream",
          "name": "stdout",
          "text": [
            "True\n"
          ]
        }
      ]
    },
    {
      "cell_type": "code",
      "source": [
        "# to find the given list pair of anagrams\n",
        "def are_anagrams(word1, word2):\n",
        "    # Sort and compare the words\n",
        "    return sorted(word1) == sorted(word2)\n",
        "\n",
        "def find_anagrams(word_list):\n",
        "    # Loop through the list and find all pairs of anagrams\n",
        "    for i in range(len(word_list)):\n",
        "        for j in range(i + 1, len(word_list)):\n",
        "            if are_anagrams(word_list[i], word_list[j]):\n",
        "                print(f\"{word_list[i]} and {word_list[j]} are anagrams\")\n",
        "\n",
        "# Example word list\n",
        "words = [\"listen\", \"silent\", \"enlist\", \"hello\", \"below\", \"elbow\", \"world\"]\n",
        "\n",
        "find_anagrams(words)"
      ],
      "metadata": {
        "colab": {
          "base_uri": "https://localhost:8080/",
          "height": 0
        },
        "id": "UOeU8N91E39c",
        "outputId": "83c44498-136f-40f8-e0da-be3c0af79ab4"
      },
      "execution_count": 3,
      "outputs": [
        {
          "output_type": "stream",
          "name": "stdout",
          "text": [
            "listen and silent are anagrams\n",
            "listen and enlist are anagrams\n",
            "silent and enlist are anagrams\n",
            "below and elbow are anagrams\n"
          ]
        }
      ]
    },
    {
      "cell_type": "code",
      "source": [],
      "metadata": {
        "id": "UiUa4SKQE4SD"
      },
      "execution_count": null,
      "outputs": []
    },
    {
      "cell_type": "code",
      "source": [],
      "metadata": {
        "id": "wN5pOaQTE4e5"
      },
      "execution_count": null,
      "outputs": []
    },
    {
      "cell_type": "code",
      "source": [],
      "metadata": {
        "id": "cj2El_xFE4tQ"
      },
      "execution_count": null,
      "outputs": []
    }
  ]
}